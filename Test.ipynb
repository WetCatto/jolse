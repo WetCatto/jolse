{
 "cells": [
  {
   "cell_type": "markdown",
   "id": "7d6644eb",
   "metadata": {},
   "source": [
    "# Test Document: HOWTO\n",
    "\n",
    "Write down any of your tests below. Check if the behavior of the simulation/RL model works as you expect it to be  \n",
    "We recommend annotating your tests with a preceding Markdown cell that describes what test you're performing."
   ]
  },
  {
   "cell_type": "markdown",
   "id": "d7dccfe6",
   "metadata": {},
   "source": [
    "### Traffic Light Testing"
   ]
  },
  {
   "cell_type": "code",
   "execution_count": 1,
   "id": "0accfe46",
   "metadata": {},
   "outputs": [
    {
     "name": "stdout",
     "output_type": "stream",
     "text": [
      "Time: 0.1s, pos=0.0, spd=0.3, road=(1, 2), light_for_road=RED, phase=Road 3->2 Green\n",
      "Time: 1.1s, pos=2.0, spd=3.3, road=(1, 2), light_for_road=RED, phase=Road 3->2 Green\n",
      "Time: 2.1s, pos=6.9, spd=6.3, road=(1, 2), light_for_road=RED, phase=Road 3->2 Green\n",
      "Time: 3.1s, pos=14.7, spd=9.1, road=(1, 2), light_for_road=RED, phase=Road 3->2 Green\n",
      "Time: 4.1s, pos=25.1, spd=11.4, road=(1, 2), light_for_road=RED, phase=Road 3->2 Green\n",
      "Time: 5.1s, pos=37.5, spd=13.1, road=(1, 2), light_for_road=RED, phase=Road 3->2 Green\n",
      "Time: 6.1s, pos=51.2, spd=14.1, road=(1, 2), light_for_road=RED, phase=Road 3->2 Green\n",
      "Time: 7.1s, pos=65.6, spd=14.6, road=(1, 2), light_for_road=RED, phase=Road 3->2 Green\n",
      "Time: 8.1s, pos=80.3, spd=14.8, road=(1, 2), light_for_road=RED, phase=Road 3->2 Green\n",
      "Time: 9.1s, pos=92.3, spd=9.8, road=(1, 2), light_for_road=RED, phase=Road 3->2 Green\n",
      "Time: 10.1s, pos=99.4, spd=4.8, road=(1, 2), light_for_road=RED, phase=Road 3->2 Green\n",
      "Time: 11.1s, pos=98.0, spd=0.0, road=(1, 2), light_for_road=RED, phase=Road 3->2 Green\n",
      "Time: 12.1s, pos=98.0, spd=0.0, road=(1, 2), light_for_road=RED, phase=Road 3->2 Green\n",
      "Time: 13.1s, pos=98.0, spd=0.0, road=(1, 2), light_for_road=RED, phase=Road 3->2 Green\n",
      "Time: 14.1s, pos=98.0, spd=0.0, road=(1, 2), light_for_road=RED, phase=Road 3->2 Green\n",
      "Time: 15.1s, pos=98.0, spd=0.0, road=(1, 2), light_for_road=RED, phase=Road 3->2 Green\n",
      "Time: 16.1s, pos=98.0, spd=0.0, road=(1, 2), light_for_road=RED, phase=Road 3->2 Green\n",
      "Time: 17.1s, pos=98.0, spd=0.0, road=(1, 2), light_for_road=RED, phase=Road 3->2 Green\n",
      "Time: 18.1s, pos=98.0, spd=0.0, road=(1, 2), light_for_road=RED, phase=Road 3->2 Green\n",
      "Time: 19.1s, pos=98.0, spd=0.0, road=(1, 2), light_for_road=RED, phase=Road 3->2 Green\n"
     ]
    }
   ],
   "source": [
    "from roadgraph.simulator import *\n",
    "\n",
    "# Create network\n",
    "network = RoadNetwork()\n",
    "network.add_node(1, (0, 0))\n",
    "network.add_node(2, (100, 0))\n",
    "network.add_node(3, (200, 0))\n",
    "network.add_two_way_road(1, 2, 2, 15)\n",
    "network.add_two_way_road(2, 3, 2, 15)\n",
    "\n",
    "phases = [\n",
    "    Phase(green_roads=[(1, 2)], name=\"Road 1->2 Green\"),\n",
    "    Phase(green_roads=[(3, 2)], name=\"Road 3->2 Green\")\n",
    "]\n",
    "light = TrafficLight(intersection_id=2, phases=phases, green_time=10.0)\n",
    "\n",
    "# START WITH PHASE 1 (so road 1->2 is RED)\n",
    "light.current_phase_index = 1  \n",
    "network.graph.nodes[2]['traffic_light'] = light\n",
    "\n",
    "# Spawn vehicle\n",
    "sim = Simulation(network)\n",
    "sim.spawn_vehicle(1, 2, 3, 0, length=5, max_speed=30)\n",
    "\n",
    "# Run and observe\n",
    "for i in range(200):\n",
    "    sim.step()\n",
    "    if i % 10 == 0:\n",
    "        v = sim.vehicles[0] if sim.vehicles else None\n",
    "        if v:\n",
    "            light_state = light.get_state_for_road(1, 2)\n",
    "            print(f\"Time: {sim.time:.1f}s, pos={v.position:.1f}, spd={v.speed:.1f}, \"\n",
    "                  f\"road={v.current_road}, light_for_road={light_state}, \"\n",
    "                  f\"phase={light.current_phase.name}\")"
   ]
  },
  {
   "cell_type": "code",
   "execution_count": 2,
   "id": "94326252",
   "metadata": {},
   "outputs": [
    {
     "name": "stdout",
     "output_type": "stream",
     "text": [
      "Time: 0.1s, pos=0.0, spd=0.3, light=GREEN\n",
      "Time: 1.1s, pos=2.0, spd=3.3, light=GREEN\n",
      "Time: 2.1s, pos=6.9, spd=6.2, light=GREEN\n",
      "Time: 3.1s, pos=14.6, spd=8.8, light=GREEN\n",
      ">>> REQUESTING PHASE CHANGE TO RED <<<\n",
      "Time: 4.1s, pos=24.5, spd=10.8, light=YELLOW\n",
      "Time: 5.1s, pos=36.0, spd=11.8, light=YELLOW\n",
      "Time: 6.1s, pos=48.0, spd=11.9, light=YELLOW\n",
      "Time: 7.1s, pos=59.6, spd=11.2, light=RED\n",
      "Time: 8.1s, pos=70.0, spd=9.6, light=RED\n",
      "Time: 9.1s, pos=78.3, spd=7.3, light=RED\n",
      "Time: 10.1s, pos=84.2, spd=4.7, light=RED\n",
      "Time: 11.1s, pos=87.6, spd=2.6, light=RED\n",
      "Time: 12.1s, pos=89.4, spd=1.3, light=RED\n",
      "Time: 13.1s, pos=90.3, spd=0.6, light=RED\n",
      "Time: 14.1s, pos=90.7, spd=0.3, light=RED\n",
      "Time: 15.1s, pos=90.8, spd=0.1, light=RED\n",
      "Time: 16.1s, pos=90.9, spd=0.1, light=RED\n",
      "Time: 17.1s, pos=91.0, spd=0.0, light=RED\n",
      "Time: 18.1s, pos=91.0, spd=0.0, light=RED\n",
      "Time: 19.1s, pos=91.0, spd=0.0, light=RED\n"
     ]
    }
   ],
   "source": [
    "# Start with green, then manually change to red\n",
    "light.current_phase_index = 0  # Start green for (1,2)\n",
    "network.graph.nodes[2]['traffic_light'] = light\n",
    "\n",
    "sim = Simulation(network)\n",
    "sim.spawn_vehicle(1, 2, 3, 0, length=5, max_speed=30)\n",
    "\n",
    "# Run simulation with manual phase change\n",
    "for i in range(200):\n",
    "    # Change light to red when vehicle is halfway\n",
    "    if i == 40:  # Around 4 seconds in\n",
    "        light.request_phase_change(1)\n",
    "        print(\">>> REQUESTING PHASE CHANGE TO RED <<<\")\n",
    "    \n",
    "    sim.step()\n",
    "    \n",
    "    if i % 10 == 0 or i == 40:\n",
    "        v = sim.vehicles[0] if sim.vehicles else None\n",
    "        if v:\n",
    "            light_state = light.get_state_for_road(1, 2)\n",
    "            print(f\"Time: {sim.time:.1f}s, pos={v.position:.1f}, spd={v.speed:.1f}, \"\n",
    "                  f\"light={light_state}\")"
   ]
  },
  {
   "cell_type": "code",
   "execution_count": null,
   "id": "c3c007f3",
   "metadata": {},
   "outputs": [],
   "source": []
  }
 ],
 "metadata": {
  "kernelspec": {
   "display_name": "Python 3",
   "language": "python",
   "name": "python3"
  },
  "language_info": {
   "codemirror_mode": {
    "name": "ipython",
    "version": 3
   },
   "file_extension": ".py",
   "mimetype": "text/x-python",
   "name": "python",
   "nbconvert_exporter": "python",
   "pygments_lexer": "ipython3",
   "version": "3.13.7"
  }
 },
 "nbformat": 4,
 "nbformat_minor": 5
}
